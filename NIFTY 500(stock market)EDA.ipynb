{
 "cells": [
  {
   "cell_type": "code",
   "execution_count": 1,
   "id": "e07db7ad",
   "metadata": {},
   "outputs": [
    {
     "data": {
      "image/png": "[encoded data removed]",
      "text/plain": [
       "<IPython.core.display.Image object>"
      ]
     },
     "metadata": {},
     "output_type": "display_data"
    }
   ],
   "source": [
    "from IPython.display import Image, display\n",
    "display(Image(filename=r'C:\\Users\\USER\\Downloads\\PYTHON NOTES INNOMATICS\\NUMPY NOTES/eda.png'))  # path relative to notebook|"
   ]
  },
  {
   "cell_type": "markdown",
   "id": "cb0c58eb",
   "metadata": {},
   "source": [
    "<div style=\"background-color:#d4edda; padding:15px; border-radius:8px; border-left:6px solid #28a745;\">\n",
    "  <h3 style=\"margin-top:0; color:#155724;\">PROBLEM STATEMENT</h3>\n",
    "  <p>The challenge is to analyze and interpret the financial data of Nifty 500 companies to uncover meaningful patterns in their market performance and profitability.\n",
    "Using key indicators such as Market Capitalization, P/E Ratio, ROCE, Dividend Yield, and Net Profit, the goal is to perform Exploratory Data Analysis (EDA) to identify trends, correlations, and outliers.\n",
    "This will help in understanding company performance, sector dominance, and potential investment opportunities within the Indian stock market.</p>\n",
    "</div>"
   ]
  },
  {
   "cell_type": "markdown",
   "id": "a4c93c7b",
   "metadata": {},
   "source": [
    "<div style=\"background-color:#d4edda; padding:15px; border-radius:8px; border-left:6px solid #28a745;\">\n",
    "  <h3 style=\"margin-top:0; color:#a52a2a;\">Necessary libraries:</h3>\n",
    "  \n",
    "</div>"
   ]
  },
  {
   "cell_type": "code",
   "execution_count": 1,
   "id": "0cdcf202",
   "metadata": {},
   "outputs": [
    {
     "name": "stderr",
     "output_type": "stream",
     "text": [
      "C:\\Users\\USER\\anaconda3\\lib\\site-packages\\pandas\\core\\computation\\expressions.py:21: UserWarning: Pandas requires version '2.8.4' or newer of 'numexpr' (version '2.8.1' currently installed).\n",
      "  from pandas.core.computation.check import NUMEXPR_INSTALLED\n",
      "C:\\Users\\USER\\anaconda3\\lib\\site-packages\\pandas\\core\\arrays\\masked.py:61: UserWarning: Pandas requires version '1.3.6' or newer of 'bottleneck' (version '1.3.4' currently installed).\n",
      "  from pandas.core import (\n"
     ]
    }
   ],
   "source": [
    "import pandas as pd\n",
    "import numpy as np\n",
    "import warnings\n",
    "warnings.filterwarnings(\"ignore\")\n"
   ]
  },
  {
   "cell_type": "code",
   "execution_count": 2,
   "id": "37f0d78b",
   "metadata": {},
   "outputs": [],
   "source": [
    "df = pd.read_csv( 'cnx500_full_data.csv')"
   ]
  },
  {
   "cell_type": "markdown",
   "id": "9df9dd91",
   "metadata": {},
   "source": [
    "<div style=\"background-color:#d4edda; padding:15px; border-radius:8px; border-left:6px solid #28a745;\">\n",
    "  <h3 style=\"margin-top:0; color:#a52a2a;\">Data Exploration:</h3>\n",
    "  \n",
    "</div>"
   ]
  },
  {
   "cell_type": "code",
   "execution_count": 3,
   "id": "8c16b491",
   "metadata": {},
   "outputs": [
    {
     "data": {
      "text/html": [
       "<div>\n",
       "<style scoped>\n",
       "    .dataframe tbody tr th:only-of-type {\n",
       "        vertical-align: middle;\n",
       "    }\n",
       "\n",
       "    .dataframe tbody tr th {\n",
       "        vertical-align: top;\n",
       "    }\n",
       "\n",
       "    .dataframe thead th {\n",
       "        text-align: right;\n",
       "    }\n",
       "</style>\n",
       "<table border=\"1\" class=\"dataframe\">\n",
       "  <thead>\n",
       "    <tr style=\"text-align: right;\">\n",
       "      <th></th>\n",
       "      <th>S.No.</th>\n",
       "      <th>Name</th>\n",
       "      <th>CMP  Rs.</th>\n",
       "      <th>P/E</th>\n",
       "      <th>Mar Cap  Rs.Cr.</th>\n",
       "      <th>Div Yld  %</th>\n",
       "      <th>NP Qtr  Rs.Cr.</th>\n",
       "      <th>Qtr Profit Var  %</th>\n",
       "      <th>Sales Qtr  Rs.Cr.</th>\n",
       "      <th>Qtr Sales Var  %</th>\n",
       "      <th>ROCE  %</th>\n",
       "    </tr>\n",
       "  </thead>\n",
       "  <tbody>\n",
       "    <tr>\n",
       "      <th>0</th>\n",
       "      <td>1.0</td>\n",
       "      <td>Reliance Industr</td>\n",
       "      <td>1467.00</td>\n",
       "      <td>28.53</td>\n",
       "      <td>1985213.21</td>\n",
       "      <td>0.34</td>\n",
       "      <td>22611.00</td>\n",
       "      <td>2.41</td>\n",
       "      <td>261388.00</td>\n",
       "      <td>10.51</td>\n",
       "      <td>9.43</td>\n",
       "    </tr>\n",
       "    <tr>\n",
       "      <th>1</th>\n",
       "      <td>2.0</td>\n",
       "      <td>HDFC Bank</td>\n",
       "      <td>1979.55</td>\n",
       "      <td>21.41</td>\n",
       "      <td>1517901.84</td>\n",
       "      <td>1.11</td>\n",
       "      <td>19284.57</td>\n",
       "      <td>6.88</td>\n",
       "      <td>86779.34</td>\n",
       "      <td>9.25</td>\n",
       "      <td>7.51</td>\n",
       "    </tr>\n",
       "    <tr>\n",
       "      <th>2</th>\n",
       "      <td>3.0</td>\n",
       "      <td>TCS</td>\n",
       "      <td>3447.75</td>\n",
       "      <td>25.75</td>\n",
       "      <td>1247426.08</td>\n",
       "      <td>1.74</td>\n",
       "      <td>12293.00</td>\n",
       "      <td>-1.69</td>\n",
       "      <td>64479.00</td>\n",
       "      <td>5.29</td>\n",
       "      <td>64.63</td>\n",
       "    </tr>\n",
       "    <tr>\n",
       "      <th>3</th>\n",
       "      <td>4.0</td>\n",
       "      <td>Bharti Airtel</td>\n",
       "      <td>1967.85</td>\n",
       "      <td>42.62</td>\n",
       "      <td>1180343.35</td>\n",
       "      <td>0.83</td>\n",
       "      <td>12475.80</td>\n",
       "      <td>185.61</td>\n",
       "      <td>47876.20</td>\n",
       "      <td>27.33</td>\n",
       "      <td>15.36</td>\n",
       "    </tr>\n",
       "    <tr>\n",
       "      <th>4</th>\n",
       "      <td>5.0</td>\n",
       "      <td>ICICI Bank</td>\n",
       "      <td>1425.20</td>\n",
       "      <td>19.88</td>\n",
       "      <td>1016883.97</td>\n",
       "      <td>0.70</td>\n",
       "      <td>14353.69</td>\n",
       "      <td>15.69</td>\n",
       "      <td>48386.92</td>\n",
       "      <td>13.57</td>\n",
       "      <td>7.88</td>\n",
       "    </tr>\n",
       "  </tbody>\n",
       "</table>\n",
       "</div>"
      ],
      "text/plain": [
       "   S.No.              Name  CMP  Rs.    P/E  Mar Cap  Rs.Cr.  Div Yld  %  \\\n",
       "0    1.0  Reliance Industr   1467.00  28.53       1985213.21        0.34   \n",
       "1    2.0         HDFC Bank   1979.55  21.41       1517901.84        1.11   \n",
       "2    3.0               TCS   3447.75  25.75       1247426.08        1.74   \n",
       "3    4.0     Bharti Airtel   1967.85  42.62       1180343.35        0.83   \n",
       "4    5.0        ICICI Bank   1425.20  19.88       1016883.97        0.70   \n",
       "\n",
       "   NP Qtr  Rs.Cr.  Qtr Profit Var  %  Sales Qtr  Rs.Cr.  Qtr Sales Var  %  \\\n",
       "0        22611.00               2.41          261388.00             10.51   \n",
       "1        19284.57               6.88           86779.34              9.25   \n",
       "2        12293.00              -1.69           64479.00              5.29   \n",
       "3        12475.80             185.61           47876.20             27.33   \n",
       "4        14353.69              15.69           48386.92             13.57   \n",
       "\n",
       "   ROCE  %  \n",
       "0     9.43  \n",
       "1     7.51  \n",
       "2    64.63  \n",
       "3    15.36  \n",
       "4     7.88  "
      ]
     },
     "execution_count": 3,
     "metadata": {},
     "output_type": "execute_result"
    }
   ],
   "source": [
    "df.head()"
   ]
  },
  {
   "cell_type": "code",
   "execution_count": 4,
   "id": "8c5026c5",
   "metadata": {},
   "outputs": [
    {
     "data": {
      "text/plain": [
       "Index(['S.No.', 'Name', 'CMP  Rs.', 'P/E', 'Mar Cap  Rs.Cr.', 'Div Yld  %',\n",
       "       'NP Qtr  Rs.Cr.', 'Qtr Profit Var  %', 'Sales Qtr  Rs.Cr.',\n",
       "       'Qtr Sales Var  %', 'ROCE  %'],\n",
       "      dtype='object')"
      ]
     },
     "execution_count": 4,
     "metadata": {},
     "output_type": "execute_result"
    }
   ],
   "source": [
    "df.columns"
   ]
  },
  {
   "cell_type": "code",
   "execution_count": 5,
   "id": "a356cd2c",
   "metadata": {},
   "outputs": [
    {
     "data": {
      "text/html": [
       "<div>\n",
       "<style scoped>\n",
       "    .dataframe tbody tr th:only-of-type {\n",
       "        vertical-align: middle;\n",
       "    }\n",
       "\n",
       "    .dataframe tbody tr th {\n",
       "        vertical-align: top;\n",
       "    }\n",
       "\n",
       "    .dataframe thead th {\n",
       "        text-align: right;\n",
       "    }\n",
       "</style>\n",
       "<table border=\"1\" class=\"dataframe\">\n",
       "  <thead>\n",
       "    <tr style=\"text-align: right;\">\n",
       "      <th></th>\n",
       "      <th>S.No.</th>\n",
       "      <th>CMP  Rs.</th>\n",
       "      <th>P/E</th>\n",
       "      <th>Mar Cap  Rs.Cr.</th>\n",
       "      <th>Div Yld  %</th>\n",
       "      <th>NP Qtr  Rs.Cr.</th>\n",
       "      <th>Qtr Profit Var  %</th>\n",
       "      <th>Sales Qtr  Rs.Cr.</th>\n",
       "      <th>Qtr Sales Var  %</th>\n",
       "      <th>ROCE  %</th>\n",
       "    </tr>\n",
       "  </thead>\n",
       "  <tbody>\n",
       "    <tr>\n",
       "      <th>count</th>\n",
       "      <td>501.000000</td>\n",
       "      <td>522.000000</td>\n",
       "      <td>500.000000</td>\n",
       "      <td>5.220000e+02</td>\n",
       "      <td>522.000000</td>\n",
       "      <td>522.000000</td>\n",
       "      <td>521.000000</td>\n",
       "      <td>522.000000</td>\n",
       "      <td>521.000000</td>\n",
       "      <td>521.000000</td>\n",
       "    </tr>\n",
       "    <tr>\n",
       "      <th>mean</th>\n",
       "      <td>251.000000</td>\n",
       "      <td>2374.081054</td>\n",
       "      <td>61.366040</td>\n",
       "      <td>7.970060e+04</td>\n",
       "      <td>0.812356</td>\n",
       "      <td>892.012969</td>\n",
       "      <td>71.842668</td>\n",
       "      <td>8033.506418</td>\n",
       "      <td>13.244491</td>\n",
       "      <td>18.415739</td>\n",
       "    </tr>\n",
       "    <tr>\n",
       "      <th>std</th>\n",
       "      <td>144.770508</td>\n",
       "      <td>7460.147425</td>\n",
       "      <td>151.319536</td>\n",
       "      <td>1.635190e+05</td>\n",
       "      <td>1.101092</td>\n",
       "      <td>2544.209692</td>\n",
       "      <td>740.189944</td>\n",
       "      <td>23427.411151</td>\n",
       "      <td>27.587243</td>\n",
       "      <td>13.426784</td>\n",
       "    </tr>\n",
       "    <tr>\n",
       "      <th>min</th>\n",
       "      <td>1.000000</td>\n",
       "      <td>7.110000</td>\n",
       "      <td>5.660000</td>\n",
       "      <td>4.002770e+03</td>\n",
       "      <td>0.000000</td>\n",
       "      <td>-7166.100000</td>\n",
       "      <td>-337.800000</td>\n",
       "      <td>0.000000</td>\n",
       "      <td>-88.010000</td>\n",
       "      <td>-29.200000</td>\n",
       "    </tr>\n",
       "    <tr>\n",
       "      <th>25%</th>\n",
       "      <td>126.000000</td>\n",
       "      <td>391.962500</td>\n",
       "      <td>25.737500</td>\n",
       "      <td>1.646934e+04</td>\n",
       "      <td>0.130000</td>\n",
       "      <td>102.370000</td>\n",
       "      <td>-5.600000</td>\n",
       "      <td>999.020000</td>\n",
       "      <td>2.520000</td>\n",
       "      <td>9.940000</td>\n",
       "    </tr>\n",
       "    <tr>\n",
       "      <th>50%</th>\n",
       "      <td>251.000000</td>\n",
       "      <td>895.650000</td>\n",
       "      <td>42.150000</td>\n",
       "      <td>3.159452e+04</td>\n",
       "      <td>0.450000</td>\n",
       "      <td>211.000000</td>\n",
       "      <td>14.870000</td>\n",
       "      <td>2060.640000</td>\n",
       "      <td>10.600000</td>\n",
       "      <td>15.990000</td>\n",
       "    </tr>\n",
       "    <tr>\n",
       "      <th>75%</th>\n",
       "      <td>376.000000</td>\n",
       "      <td>1940.362500</td>\n",
       "      <td>62.615000</td>\n",
       "      <td>8.234179e+04</td>\n",
       "      <td>1.080000</td>\n",
       "      <td>516.645000</td>\n",
       "      <td>41.320000</td>\n",
       "      <td>5233.272500</td>\n",
       "      <td>19.760000</td>\n",
       "      <td>23.190000</td>\n",
       "    </tr>\n",
       "    <tr>\n",
       "      <th>max</th>\n",
       "      <td>501.000000</td>\n",
       "      <td>139449.900000</td>\n",
       "      <td>3002.290000</td>\n",
       "      <td>1.985213e+06</td>\n",
       "      <td>8.530000</td>\n",
       "      <td>22611.000000</td>\n",
       "      <td>16210.180000</td>\n",
       "      <td>261388.000000</td>\n",
       "      <td>347.290000</td>\n",
       "      <td>105.360000</td>\n",
       "    </tr>\n",
       "  </tbody>\n",
       "</table>\n",
       "</div>"
      ],
      "text/plain": [
       "            S.No.       CMP  Rs.          P/E  Mar Cap  Rs.Cr.  Div Yld  %  \\\n",
       "count  501.000000     522.000000   500.000000     5.220000e+02  522.000000   \n",
       "mean   251.000000    2374.081054    61.366040     7.970060e+04    0.812356   \n",
       "std    144.770508    7460.147425   151.319536     1.635190e+05    1.101092   \n",
       "min      1.000000       7.110000     5.660000     4.002770e+03    0.000000   \n",
       "25%    126.000000     391.962500    25.737500     1.646934e+04    0.130000   \n",
       "50%    251.000000     895.650000    42.150000     3.159452e+04    0.450000   \n",
       "75%    376.000000    1940.362500    62.615000     8.234179e+04    1.080000   \n",
       "max    501.000000  139449.900000  3002.290000     1.985213e+06    8.530000   \n",
       "\n",
       "       NP Qtr  Rs.Cr.  Qtr Profit Var  %  Sales Qtr  Rs.Cr.  Qtr Sales Var  %  \\\n",
       "count      522.000000         521.000000         522.000000        521.000000   \n",
       "mean       892.012969          71.842668        8033.506418         13.244491   \n",
       "std       2544.209692         740.189944       23427.411151         27.587243   \n",
       "min      -7166.100000        -337.800000           0.000000        -88.010000   \n",
       "25%        102.370000          -5.600000         999.020000          2.520000   \n",
       "50%        211.000000          14.870000        2060.640000         10.600000   \n",
       "75%        516.645000          41.320000        5233.272500         19.760000   \n",
       "max      22611.000000       16210.180000      261388.000000        347.290000   \n",
       "\n",
       "          ROCE  %  \n",
       "count  521.000000  \n",
       "mean    18.415739  \n",
       "std     13.426784  \n",
       "min    -29.200000  \n",
       "25%      9.940000  \n",
       "50%     15.990000  \n",
       "75%     23.190000  \n",
       "max    105.360000  "
      ]
     },
     "execution_count": 5,
     "metadata": {},
     "output_type": "execute_result"
    }
   ],
   "source": [
    "df.describe()"
   ]
  },
  {
   "cell_type": "code",
   "execution_count": 6,
   "id": "df30363a",
   "metadata": {},
   "outputs": [
    {
     "name": "stdout",
     "output_type": "stream",
     "text": [
      "(522, 11)\n"
     ]
    }
   ],
   "source": [
    "print(df.shape)  # Rows & Columns"
   ]
  },
  {
   "cell_type": "code",
   "execution_count": 7,
   "id": "8d3bc4aa",
   "metadata": {},
   "outputs": [
    {
     "data": {
      "text/plain": [
       "S.No.                21\n",
       "Name                  0\n",
       "CMP  Rs.              0\n",
       "P/E                  22\n",
       "Mar Cap  Rs.Cr.       0\n",
       "Div Yld  %            0\n",
       "NP Qtr  Rs.Cr.        0\n",
       "Qtr Profit Var  %     1\n",
       "Sales Qtr  Rs.Cr.     0\n",
       "Qtr Sales Var  %      1\n",
       "ROCE  %               1\n",
       "dtype: int64"
      ]
     },
     "execution_count": 7,
     "metadata": {},
     "output_type": "execute_result"
    }
   ],
   "source": [
    "df.isnull().sum()"
   ]
  },
  {
   "cell_type": "code",
   "execution_count": 8,
   "id": "04634cb6",
   "metadata": {},
   "outputs": [
    {
     "name": "stdout",
     "output_type": "stream",
     "text": [
      "Index(['S.No.', 'Name', 'CMP  Rs.', 'P/E', 'Mar Cap  Rs.Cr.', 'Div Yld  %',\n",
      "       'NP Qtr  Rs.Cr.', 'Qtr Profit Var  %', 'Sales Qtr  Rs.Cr.',\n",
      "       'Qtr Sales Var  %', 'ROCE  %'],\n",
      "      dtype='object')\n"
     ]
    }
   ],
   "source": [
    "print(df.columns)  # Feature names\n"
   ]
  },
  {
   "cell_type": "code",
   "execution_count": 9,
   "id": "e8272f77",
   "metadata": {},
   "outputs": [
    {
     "name": "stdout",
     "output_type": "stream",
     "text": [
      "S.No.                float64\n",
      "Name                  object\n",
      "CMP  Rs.             float64\n",
      "P/E                  float64\n",
      "Mar Cap  Rs.Cr.      float64\n",
      "Div Yld  %           float64\n",
      "NP Qtr  Rs.Cr.       float64\n",
      "Qtr Profit Var  %    float64\n",
      "Sales Qtr  Rs.Cr.    float64\n",
      "Qtr Sales Var  %     float64\n",
      "ROCE  %              float64\n",
      "dtype: object\n"
     ]
    }
   ],
   "source": [
    "print(df.dtypes)  # Data types\n"
   ]
  },
  {
   "cell_type": "code",
   "execution_count": 10,
   "id": "5b5bebdf",
   "metadata": {
    "scrolled": true
   },
   "outputs": [
    {
     "name": "stdout",
     "output_type": "stream",
     "text": [
      "S.No.                21\n",
      "Name                  0\n",
      "CMP  Rs.              0\n",
      "P/E                  22\n",
      "Mar Cap  Rs.Cr.       0\n",
      "Div Yld  %            0\n",
      "NP Qtr  Rs.Cr.        0\n",
      "Qtr Profit Var  %     1\n",
      "Sales Qtr  Rs.Cr.     0\n",
      "Qtr Sales Var  %      1\n",
      "ROCE  %               1\n",
      "dtype: int64\n"
     ]
    }
   ],
   "source": [
    "print(df.isnull().sum())  # Missing values"
   ]
  },
  {
   "cell_type": "code",
   "execution_count": 11,
   "id": "f3b0a10c",
   "metadata": {},
   "outputs": [],
   "source": [
    "df.rename(columns={'Name':'Company Name',\n",
    "    'CMP Rs.': 'Current Market Price Rs.',\n",
    "    'P/E': 'Price to Earnings Ratio',\n",
    "    'Mar Cap Rs.Cr.': 'Market Capitalization Rs.Cr.',\n",
    "    'Div Yld %': 'Dividend Yield Percentage',\n",
    "    'NP Qtr Rs.Cr.': 'Net Profit Quarter Rs.Cr.',\n",
    "    'Qtr Profit Var %': 'Quarterly Profit Variation Percentage',\n",
    "    'Sales Qtr Rs.Cr.': 'Sales Quarter Rs.Cr.',\n",
    "    'Qtr Sales Var %': 'Quarterly Sales Variation Percentage',\n",
    "    'ROCE %': 'Return on Capital Employed Percentage'\n",
    "}, inplace=True)\n"
   ]
  },
  {
   "cell_type": "code",
   "execution_count": 12,
   "id": "665d9466",
   "metadata": {},
   "outputs": [
    {
     "data": {
      "text/plain": [
       "Index(['S.No.', 'Company Name', 'CMP  Rs.', 'Price to Earnings Ratio',\n",
       "       'Mar Cap  Rs.Cr.', 'Div Yld  %', 'NP Qtr  Rs.Cr.', 'Qtr Profit Var  %',\n",
       "       'Sales Qtr  Rs.Cr.', 'Qtr Sales Var  %', 'ROCE  %'],\n",
       "      dtype='object')"
      ]
     },
     "execution_count": 12,
     "metadata": {},
     "output_type": "execute_result"
    }
   ],
   "source": [
    "df.columns"
   ]
  },
  {
   "cell_type": "markdown",
   "id": "4fdefcf6",
   "metadata": {},
   "source": [
    "<div style=\"background-color:#d4edda; padding:15px; border-radius:8px; border-left:6px solid #28a745;\">\n",
    "  <h3 style=\"margin-top:0; color:#a52a2a;\">Data Cleaning:</h3>\n",
    "  \n",
    "</div>"
   ]
  },
  {
   "cell_type": "code",
   "execution_count": 13,
   "id": "9772f930",
   "metadata": {},
   "outputs": [
    {
     "data": {
      "text/html": [
       "<div>\n",
       "<style scoped>\n",
       "    .dataframe tbody tr th:only-of-type {\n",
       "        vertical-align: middle;\n",
       "    }\n",
       "\n",
       "    .dataframe tbody tr th {\n",
       "        vertical-align: top;\n",
       "    }\n",
       "\n",
       "    .dataframe thead th {\n",
       "        text-align: right;\n",
       "    }\n",
       "</style>\n",
       "<table border=\"1\" class=\"dataframe\">\n",
       "  <thead>\n",
       "    <tr style=\"text-align: right;\">\n",
       "      <th></th>\n",
       "      <th>S.No.</th>\n",
       "      <th>Company Name</th>\n",
       "      <th>CMP  Rs.</th>\n",
       "      <th>Price to Earnings Ratio</th>\n",
       "      <th>Mar Cap  Rs.Cr.</th>\n",
       "      <th>Div Yld  %</th>\n",
       "      <th>NP Qtr  Rs.Cr.</th>\n",
       "      <th>Qtr Profit Var  %</th>\n",
       "      <th>Sales Qtr  Rs.Cr.</th>\n",
       "      <th>Qtr Sales Var  %</th>\n",
       "      <th>ROCE  %</th>\n",
       "    </tr>\n",
       "  </thead>\n",
       "  <tbody>\n",
       "    <tr>\n",
       "      <th>51</th>\n",
       "      <td>NaN</td>\n",
       "      <td>Median: 501 Co.</td>\n",
       "      <td>894.55</td>\n",
       "      <td>42.03</td>\n",
       "      <td>31622.25</td>\n",
       "      <td>0.45</td>\n",
       "      <td>211.0</td>\n",
       "      <td>14.87</td>\n",
       "      <td>2060.64</td>\n",
       "      <td>10.6</td>\n",
       "      <td>15.99</td>\n",
       "    </tr>\n",
       "    <tr>\n",
       "      <th>103</th>\n",
       "      <td>NaN</td>\n",
       "      <td>Median: 501 Co.</td>\n",
       "      <td>894.40</td>\n",
       "      <td>42.09</td>\n",
       "      <td>31615.32</td>\n",
       "      <td>0.45</td>\n",
       "      <td>211.0</td>\n",
       "      <td>14.87</td>\n",
       "      <td>2060.64</td>\n",
       "      <td>10.6</td>\n",
       "      <td>15.99</td>\n",
       "    </tr>\n",
       "    <tr>\n",
       "      <th>129</th>\n",
       "      <td>NaN</td>\n",
       "      <td>Median: 501 Co.</td>\n",
       "      <td>894.40</td>\n",
       "      <td>42.09</td>\n",
       "      <td>31615.32</td>\n",
       "      <td>0.45</td>\n",
       "      <td>211.0</td>\n",
       "      <td>14.87</td>\n",
       "      <td>2060.64</td>\n",
       "      <td>10.6</td>\n",
       "      <td>15.99</td>\n",
       "    </tr>\n",
       "    <tr>\n",
       "      <th>155</th>\n",
       "      <td>NaN</td>\n",
       "      <td>Median: 501 Co.</td>\n",
       "      <td>894.40</td>\n",
       "      <td>42.09</td>\n",
       "      <td>31615.32</td>\n",
       "      <td>0.45</td>\n",
       "      <td>211.0</td>\n",
       "      <td>14.87</td>\n",
       "      <td>2060.64</td>\n",
       "      <td>10.6</td>\n",
       "      <td>15.99</td>\n",
       "    </tr>\n",
       "    <tr>\n",
       "      <th>181</th>\n",
       "      <td>NaN</td>\n",
       "      <td>Median: 501 Co.</td>\n",
       "      <td>894.40</td>\n",
       "      <td>42.09</td>\n",
       "      <td>31615.32</td>\n",
       "      <td>0.45</td>\n",
       "      <td>211.0</td>\n",
       "      <td>14.87</td>\n",
       "      <td>2060.64</td>\n",
       "      <td>10.6</td>\n",
       "      <td>15.99</td>\n",
       "    </tr>\n",
       "    <tr>\n",
       "      <th>233</th>\n",
       "      <td>NaN</td>\n",
       "      <td>Median: 501 Co.</td>\n",
       "      <td>897.00</td>\n",
       "      <td>42.18</td>\n",
       "      <td>31594.52</td>\n",
       "      <td>0.45</td>\n",
       "      <td>211.0</td>\n",
       "      <td>14.87</td>\n",
       "      <td>2060.64</td>\n",
       "      <td>10.6</td>\n",
       "      <td>15.99</td>\n",
       "    </tr>\n",
       "    <tr>\n",
       "      <th>259</th>\n",
       "      <td>NaN</td>\n",
       "      <td>Median: 501 Co.</td>\n",
       "      <td>897.00</td>\n",
       "      <td>42.18</td>\n",
       "      <td>31594.52</td>\n",
       "      <td>0.45</td>\n",
       "      <td>211.0</td>\n",
       "      <td>14.87</td>\n",
       "      <td>2060.64</td>\n",
       "      <td>10.6</td>\n",
       "      <td>15.99</td>\n",
       "    </tr>\n",
       "    <tr>\n",
       "      <th>285</th>\n",
       "      <td>NaN</td>\n",
       "      <td>Median: 501 Co.</td>\n",
       "      <td>897.00</td>\n",
       "      <td>42.18</td>\n",
       "      <td>31594.52</td>\n",
       "      <td>0.45</td>\n",
       "      <td>211.0</td>\n",
       "      <td>14.87</td>\n",
       "      <td>2060.64</td>\n",
       "      <td>10.6</td>\n",
       "      <td>15.99</td>\n",
       "    </tr>\n",
       "    <tr>\n",
       "      <th>311</th>\n",
       "      <td>NaN</td>\n",
       "      <td>Median: 501 Co.</td>\n",
       "      <td>897.00</td>\n",
       "      <td>42.18</td>\n",
       "      <td>31594.52</td>\n",
       "      <td>0.45</td>\n",
       "      <td>211.0</td>\n",
       "      <td>14.87</td>\n",
       "      <td>2060.64</td>\n",
       "      <td>10.6</td>\n",
       "      <td>15.99</td>\n",
       "    </tr>\n",
       "    <tr>\n",
       "      <th>337</th>\n",
       "      <td>NaN</td>\n",
       "      <td>Median: 501 Co.</td>\n",
       "      <td>897.00</td>\n",
       "      <td>42.18</td>\n",
       "      <td>31594.52</td>\n",
       "      <td>0.45</td>\n",
       "      <td>211.0</td>\n",
       "      <td>14.87</td>\n",
       "      <td>2060.64</td>\n",
       "      <td>10.6</td>\n",
       "      <td>15.99</td>\n",
       "    </tr>\n",
       "    <tr>\n",
       "      <th>389</th>\n",
       "      <td>NaN</td>\n",
       "      <td>Median: 501 Co.</td>\n",
       "      <td>895.65</td>\n",
       "      <td>42.15</td>\n",
       "      <td>31573.72</td>\n",
       "      <td>0.45</td>\n",
       "      <td>211.0</td>\n",
       "      <td>14.87</td>\n",
       "      <td>2060.64</td>\n",
       "      <td>10.6</td>\n",
       "      <td>15.99</td>\n",
       "    </tr>\n",
       "    <tr>\n",
       "      <th>415</th>\n",
       "      <td>NaN</td>\n",
       "      <td>Median: 501 Co.</td>\n",
       "      <td>895.65</td>\n",
       "      <td>42.15</td>\n",
       "      <td>31573.72</td>\n",
       "      <td>0.45</td>\n",
       "      <td>211.0</td>\n",
       "      <td>14.87</td>\n",
       "      <td>2060.64</td>\n",
       "      <td>10.6</td>\n",
       "      <td>15.99</td>\n",
       "    </tr>\n",
       "    <tr>\n",
       "      <th>441</th>\n",
       "      <td>NaN</td>\n",
       "      <td>Median: 501 Co.</td>\n",
       "      <td>895.65</td>\n",
       "      <td>42.15</td>\n",
       "      <td>31573.72</td>\n",
       "      <td>0.45</td>\n",
       "      <td>211.0</td>\n",
       "      <td>14.87</td>\n",
       "      <td>2060.64</td>\n",
       "      <td>10.6</td>\n",
       "      <td>15.99</td>\n",
       "    </tr>\n",
       "    <tr>\n",
       "      <th>467</th>\n",
       "      <td>NaN</td>\n",
       "      <td>Median: 501 Co.</td>\n",
       "      <td>895.65</td>\n",
       "      <td>42.15</td>\n",
       "      <td>31573.72</td>\n",
       "      <td>0.45</td>\n",
       "      <td>211.0</td>\n",
       "      <td>14.87</td>\n",
       "      <td>2060.64</td>\n",
       "      <td>10.6</td>\n",
       "      <td>15.99</td>\n",
       "    </tr>\n",
       "    <tr>\n",
       "      <th>493</th>\n",
       "      <td>NaN</td>\n",
       "      <td>Median: 501 Co.</td>\n",
       "      <td>895.65</td>\n",
       "      <td>42.15</td>\n",
       "      <td>31573.72</td>\n",
       "      <td>0.45</td>\n",
       "      <td>211.0</td>\n",
       "      <td>14.87</td>\n",
       "      <td>2060.64</td>\n",
       "      <td>10.6</td>\n",
       "      <td>15.99</td>\n",
       "    </tr>\n",
       "    <tr>\n",
       "      <th>519</th>\n",
       "      <td>NaN</td>\n",
       "      <td>Median: 501 Co.</td>\n",
       "      <td>895.65</td>\n",
       "      <td>42.15</td>\n",
       "      <td>31573.72</td>\n",
       "      <td>0.45</td>\n",
       "      <td>211.0</td>\n",
       "      <td>14.87</td>\n",
       "      <td>2060.64</td>\n",
       "      <td>10.6</td>\n",
       "      <td>15.99</td>\n",
       "    </tr>\n",
       "  </tbody>\n",
       "</table>\n",
       "</div>"
      ],
      "text/plain": [
       "     S.No.     Company Name  CMP  Rs.  Price to Earnings Ratio  \\\n",
       "51     NaN  Median: 501 Co.    894.55                    42.03   \n",
       "103    NaN  Median: 501 Co.    894.40                    42.09   \n",
       "129    NaN  Median: 501 Co.    894.40                    42.09   \n",
       "155    NaN  Median: 501 Co.    894.40                    42.09   \n",
       "181    NaN  Median: 501 Co.    894.40                    42.09   \n",
       "233    NaN  Median: 501 Co.    897.00                    42.18   \n",
       "259    NaN  Median: 501 Co.    897.00                    42.18   \n",
       "285    NaN  Median: 501 Co.    897.00                    42.18   \n",
       "311    NaN  Median: 501 Co.    897.00                    42.18   \n",
       "337    NaN  Median: 501 Co.    897.00                    42.18   \n",
       "389    NaN  Median: 501 Co.    895.65                    42.15   \n",
       "415    NaN  Median: 501 Co.    895.65                    42.15   \n",
       "441    NaN  Median: 501 Co.    895.65                    42.15   \n",
       "467    NaN  Median: 501 Co.    895.65                    42.15   \n",
       "493    NaN  Median: 501 Co.    895.65                    42.15   \n",
       "519    NaN  Median: 501 Co.    895.65                    42.15   \n",
       "\n",
       "     Mar Cap  Rs.Cr.  Div Yld  %  NP Qtr  Rs.Cr.  Qtr Profit Var  %  \\\n",
       "51          31622.25        0.45           211.0              14.87   \n",
       "103         31615.32        0.45           211.0              14.87   \n",
       "129         31615.32        0.45           211.0              14.87   \n",
       "155         31615.32        0.45           211.0              14.87   \n",
       "181         31615.32        0.45           211.0              14.87   \n",
       "233         31594.52        0.45           211.0              14.87   \n",
       "259         31594.52        0.45           211.0              14.87   \n",
       "285         31594.52        0.45           211.0              14.87   \n",
       "311         31594.52        0.45           211.0              14.87   \n",
       "337         31594.52        0.45           211.0              14.87   \n",
       "389         31573.72        0.45           211.0              14.87   \n",
       "415         31573.72        0.45           211.0              14.87   \n",
       "441         31573.72        0.45           211.0              14.87   \n",
       "467         31573.72        0.45           211.0              14.87   \n",
       "493         31573.72        0.45           211.0              14.87   \n",
       "519         31573.72        0.45           211.0              14.87   \n",
       "\n",
       "     Sales Qtr  Rs.Cr.  Qtr Sales Var  %  ROCE  %  \n",
       "51             2060.64              10.6    15.99  \n",
       "103            2060.64              10.6    15.99  \n",
       "129            2060.64              10.6    15.99  \n",
       "155            2060.64              10.6    15.99  \n",
       "181            2060.64              10.6    15.99  \n",
       "233            2060.64              10.6    15.99  \n",
       "259            2060.64              10.6    15.99  \n",
       "285            2060.64              10.6    15.99  \n",
       "311            2060.64              10.6    15.99  \n",
       "337            2060.64              10.6    15.99  \n",
       "389            2060.64              10.6    15.99  \n",
       "415            2060.64              10.6    15.99  \n",
       "441            2060.64              10.6    15.99  \n",
       "467            2060.64              10.6    15.99  \n",
       "493            2060.64              10.6    15.99  \n",
       "519            2060.64              10.6    15.99  "
      ]
     },
     "execution_count": 13,
     "metadata": {},
     "output_type": "execute_result"
    }
   ],
   "source": [
    "df[df.duplicated()]"
   ]
  },
  {
   "cell_type": "code",
   "execution_count": 14,
   "id": "7277f3be",
   "metadata": {},
   "outputs": [
    {
     "data": {
      "text/plain": [
       "16"
      ]
     },
     "execution_count": 14,
     "metadata": {},
     "output_type": "execute_result"
    }
   ],
   "source": [
    "df.duplicated().sum()"
   ]
  },
  {
   "cell_type": "code",
   "execution_count": 15,
   "id": "aaf35890",
   "metadata": {},
   "outputs": [],
   "source": [
    "df = df.drop_duplicates()"
   ]
  },
  {
   "cell_type": "code",
   "execution_count": 16,
   "id": "cf841bc0",
   "metadata": {},
   "outputs": [
    {
     "data": {
      "text/plain": [
       "0"
      ]
     },
     "execution_count": 16,
     "metadata": {},
     "output_type": "execute_result"
    }
   ],
   "source": [
    "df.duplicated().sum()"
   ]
  },
  {
   "cell_type": "code",
   "execution_count": 17,
   "id": "d41086fd",
   "metadata": {},
   "outputs": [
    {
     "data": {
      "text/plain": [
       "S.No.                       5\n",
       "Company Name                0\n",
       "CMP  Rs.                    0\n",
       "Price to Earnings Ratio    22\n",
       "Mar Cap  Rs.Cr.             0\n",
       "Div Yld  %                  0\n",
       "NP Qtr  Rs.Cr.              0\n",
       "Qtr Profit Var  %           1\n",
       "Sales Qtr  Rs.Cr.           0\n",
       "Qtr Sales Var  %            1\n",
       "ROCE  %                     1\n",
       "dtype: int64"
      ]
     },
     "execution_count": 17,
     "metadata": {},
     "output_type": "execute_result"
    }
   ],
   "source": [
    "df.isnull().sum()"
   ]
  },
  {
   "cell_type": "raw",
   "id": "ef5d3e8c",
   "metadata": {},
   "source": [
    "Observation:\n",
    "-->columns with missing values are:\n",
    "-->S.No. → 5 missing\n",
    "-->Price to Earnings Ratio → 22 missing\n",
    "-->Qtr Profit Var % → 1 missing\n",
    "-->Qtr Sales Var % → 1 missing\n",
    "-->ROCE % → 1 missing\n",
    "-->The S.No. column is not required for analysis, so it can be removed.\n"
   ]
  },
  {
   "cell_type": "code",
   "execution_count": 18,
   "id": "86c34341",
   "metadata": {},
   "outputs": [],
   "source": [
    "df.drop(['S.No.'], axis=1, inplace=True)"
   ]
  },
  {
   "cell_type": "code",
   "execution_count": 19,
   "id": "571337fa",
   "metadata": {},
   "outputs": [
    {
     "data": {
      "text/plain": [
       "Company Name                0\n",
       "CMP  Rs.                    0\n",
       "Price to Earnings Ratio    22\n",
       "Mar Cap  Rs.Cr.             0\n",
       "Div Yld  %                  0\n",
       "NP Qtr  Rs.Cr.              0\n",
       "Qtr Profit Var  %           1\n",
       "Sales Qtr  Rs.Cr.           0\n",
       "Qtr Sales Var  %            1\n",
       "ROCE  %                     1\n",
       "dtype: int64"
      ]
     },
     "execution_count": 19,
     "metadata": {},
     "output_type": "execute_result"
    }
   ],
   "source": [
    "df.isnull().sum()"
   ]
  },
  {
   "cell_type": "raw",
   "id": "14957fdf",
   "metadata": {},
   "source": [
    "Obseravtion:\n",
    "-->Price to Earnings Ratio → 22 missing\n",
    "-->Qtr Profit Var % → 1 missing\n",
    "-->Qtr Sales Var % → 1 missing\n",
    "-->ROCE % → 1 missing"
   ]
  },
  {
   "cell_type": "code",
   "execution_count": 20,
   "id": "ade6b75d",
   "metadata": {},
   "outputs": [],
   "source": [
    "df.columns = df.columns.str.replace(r'\\s+', ' ', regex=True)"
   ]
  },
  {
   "cell_type": "code",
   "execution_count": 21,
   "id": "53e05d49",
   "metadata": {},
   "outputs": [],
   "source": [
    "columns_to_check = ['Price to Earnings Ratio', 'Qtr Profit Var %', 'Qtr Sales Var %', 'ROCE %']"
   ]
  },
  {
   "cell_type": "code",
   "execution_count": 22,
   "id": "b8b4aecd",
   "metadata": {},
   "outputs": [],
   "source": [
    "df_clean = df.dropna(subset=columns_to_check)"
   ]
  },
  {
   "cell_type": "code",
   "execution_count": 23,
   "id": "ac736dfd",
   "metadata": {},
   "outputs": [
    {
     "data": {
      "text/plain": [
       "Company Name               0\n",
       "CMP Rs.                    0\n",
       "Price to Earnings Ratio    0\n",
       "Mar Cap Rs.Cr.             0\n",
       "Div Yld %                  0\n",
       "NP Qtr Rs.Cr.              0\n",
       "Qtr Profit Var %           0\n",
       "Sales Qtr Rs.Cr.           0\n",
       "Qtr Sales Var %            0\n",
       "ROCE %                     0\n",
       "dtype: int64"
      ]
     },
     "execution_count": 23,
     "metadata": {},
     "output_type": "execute_result"
    }
   ],
   "source": [
    "df_clean.isnull().sum()"
   ]
  },
  {
   "cell_type": "raw",
   "id": "7f861199",
   "metadata": {},
   "source": [
    "Observation:\n",
    "Some columns have missing values. In stock market data, we cannot fill these null values because they may represent negative earnings, new listings, or delayed reporting. To maintain accurate analysis, we drop rows with missing values in key financial metrics like P/E, ROCE, and quarterly growth."
   ]
  },
  {
   "cell_type": "code",
   "execution_count": 24,
   "id": "8c573f58",
   "metadata": {},
   "outputs": [
    {
     "data": {
      "text/plain": [
       "(483, 10)"
      ]
     },
     "execution_count": 24,
     "metadata": {},
     "output_type": "execute_result"
    }
   ],
   "source": [
    "df_clean.shape"
   ]
  },
  {
   "cell_type": "code",
   "execution_count": 25,
   "id": "0e17fb04",
   "metadata": {},
   "outputs": [
    {
     "data": {
      "text/plain": [
       "Company Name                object\n",
       "CMP Rs.                    float64\n",
       "Price to Earnings Ratio    float64\n",
       "Mar Cap Rs.Cr.             float64\n",
       "Div Yld %                  float64\n",
       "NP Qtr Rs.Cr.              float64\n",
       "Qtr Profit Var %           float64\n",
       "Sales Qtr Rs.Cr.           float64\n",
       "Qtr Sales Var %            float64\n",
       "ROCE %                     float64\n",
       "dtype: object"
      ]
     },
     "execution_count": 25,
     "metadata": {},
     "output_type": "execute_result"
    }
   ],
   "source": [
    "df_clean.dtypes"
   ]
  },
  {
   "cell_type": "markdown",
   "id": "9ba3ce65",
   "metadata": {},
   "source": [
    "<div style=\"background-color:#d4edda; padding:15px; border-radius:8px; border-left:6px solid #28a745;\">\n",
    "  <h3 style=\"margin-top:0; color:#a52a2a;\">Visualize Outliers:</h3>\n",
    "  \n",
    "</div>"
   ]
  },
  {
   "cell_type": "code",
   "execution_count": 26,
   "id": "435f3f69",
   "metadata": {},
   "outputs": [
    {
     "data": {
      "image/png": "[encoded data removed]",
      "text/plain": [
       "<Figure size 1080x576 with 9 Axes>"
      ]
     },
     "metadata": {
      "needs_background": "light"
     },
     "output_type": "display_data"
    }
   ],
   "source": [
    "import matplotlib.pyplot as plt\n",
    "import seaborn as sns\n",
    "\n",
    "# Select numeric columns\n",
    "numeric_cols = df_clean.select_dtypes(include=['float64']).columns\n",
    "\n",
    "# Create boxplots for each numeric column\n",
    "plt.figure(figsize=(15, 8))\n",
    "\n",
    "for i, col in enumerate(numeric_cols):\n",
    "    plt.subplot(2, (len(numeric_cols)+1)//2, i+1)  # Arrange in 2 rows\n",
    "    sns.boxplot(y=df_clean[col], color='skyblue')\n",
    "    plt.title(f'Boxplot of {col}')\n",
    "\n",
    "plt.tight_layout()\n",
    "plt.show()"
   ]
  },
  {
   "cell_type": "raw",
   "id": "1d9d8ba6",
   "metadata": {},
   "source": [
    "Observation:\n",
    "Never drop outliers blindly, because they could be key investment signals.\n",
    "Outliers in stock market data are retained as they represent genuine market behavior and are not removed or modified."
   ]
  },
  {
   "cell_type": "markdown",
   "id": "289ce42b",
   "metadata": {},
   "source": [
    "<div style=\"background-color:#d4edda; padding:15px; border-radius:8px; border-left:6px solid #28a745;\">\n",
    "  <h3 style=\"margin-top:0; color:#a52a2a;\">Univariate Analysis:</h3>\n",
    "  \n",
    "</div>"
   ]
  },
  {
   "cell_type": "code",
   "execution_count": 42,
   "id": "be1b7fef",
   "metadata": {},
   "outputs": [
    {
     "data": {
      "image/png": "[encoded data removed]",
      "text/plain": [
       "<Figure size 1080x1080 with 9 Axes>"
      ]
     },
     "metadata": {
      "needs_background": "light"
     },
     "output_type": "display_data"
    }
   ],
   "source": [
    "numerical_feature = df_clean.select_dtypes(include=['float64']).columns\n",
    "\n",
    "plt.figure(figsize=(15, 15))\n",
    "plt.suptitle('Univariate Analysis of Numerical Features', fontsize=20, fontweight='bold', alpha=0.8)\n",
    "\n",
    "# Loop through each numerical column\n",
    "for i in range(len(numerical_feature)):\n",
    "    plt.subplot(5, 3, i+1)  # Adjust grid size as needed\n",
    "    sns.kdeplot(x=df_clean[numerical_feature[i]], shade=True, color='r')\n",
    "    plt.xlabel(numerical_feature[i])\n",
    "    plt.ylabel('Density')\n",
    "\n",
    "plt.tight_layout(rect=[0, 0, 1, 0.96])\n",
    "plt.show()\n"
   ]
  },
  {
   "cell_type": "raw",
   "id": "9b08a5bb",
   "metadata": {},
   "source": [
    "Observation:\n",
    "The KDE plot shows that most numerical features are not normally distributed and are highly skewed. This means a few companies have very high or very low values compared to others. In the stock market, this is common because company size, profit, and valuation vary widely. Therefore, these extreme values are not treated as outliers, as they reflect real market behavior."
   ]
  },
  {
   "cell_type": "markdown",
   "id": "7ee17060",
   "metadata": {},
   "source": [
    "<div style=\"background-color:#d4edda; padding:15px; border-radius:8px; border-left:6px solid #28a745;\">\n",
    "  <h3 style=\"margin-top:0; color:#a52a2a;\">MULTIVARIATE ANALYSIS:</h3>\n",
    "  \n",
    "</div>"
   ]
  },
  {
   "cell_type": "code",
   "execution_count": 27,
   "id": "f6cc8a7f",
   "metadata": {},
   "outputs": [
    {
     "data": {
      "image/png": "[encoded data removed]",
      "text/plain": [
       "<Figure size 432x288 with 2 Axes>"
      ]
     },
     "metadata": {
      "needs_background": "light"
     },
     "output_type": "display_data"
    }
   ],
   "source": [
    "numerical_feature = df_clean.select_dtypes(include=['float64']).columns\n",
    "\n",
    "corr = df_clean[numerical_feature].corr()\n",
    "\n",
    "# Plot the heatmap\n",
    "sns.heatmap(corr, annot=True, cmap='coolwarm')\n",
    "plt.title('Correlation Matrix')\n",
    "plt.show()\n",
    "\n"
   ]
  },
  {
   "cell_type": "markdown",
   "id": "b443d9ac",
   "metadata": {},
   "source": [
    "<div style=\"background-color:#d4edda; padding:15px; border-radius:8px; border-left:6px solid #28a745;\">\n",
    "  <h3 style=\"margin-top:0; color:#a52a2a;\">1. Which companies contribute the most to the overall market capitalization of the Nifty 500 index, and how is the market share distributed among top firms?:</h3>\n",
    "  \n",
    "</div>"
   ]
  },
  {
   "cell_type": "code",
   "execution_count": 29,
   "id": "6479f4d3",
   "metadata": {},
   "outputs": [],
   "source": [
    "# Sort by Market Cap in descending order\n",
    "top_10 = df.sort_values(by='Mar Cap Rs.Cr.', ascending=False).head(10)"
   ]
  },
  {
   "cell_type": "code",
   "execution_count": 30,
   "id": "28b61f97",
   "metadata": {},
   "outputs": [
    {
     "name": "stdout",
     "output_type": "stream",
     "text": [
      "Top 10 Companies by Market Capitalization:\n",
      "       Company Name  Mar Cap Rs.Cr.\n",
      "0  Reliance Industr      1985213.21\n",
      "1         HDFC Bank      1517901.84\n",
      "2               TCS      1247426.08\n",
      "3     Bharti Airtel      1180343.35\n",
      "4        ICICI Bank      1016883.97\n",
      "5    St Bk of India       713612.63\n",
      "6           Infosys       670863.96\n",
      "7    Life Insurance       600969.60\n",
      "8     Bajaj Finance       577307.13\n",
      "9    Hind. Unilever       535236.88\n"
     ]
    }
   ],
   "source": [
    "# Display top 10 companies by Market Cap\n",
    "print(\"Top 10 Companies by Market Capitalization:\")\n",
    "print(top_10[['Company Name', 'Mar Cap Rs.Cr.']])"
   ]
  },
  {
   "cell_type": "code",
   "execution_count": 31,
   "id": "52cab2d7",
   "metadata": {},
   "outputs": [
    {
     "data": {
      "image/png": "[encoded data removed]",
      "text/plain": [
       "<Figure size 720x432 with 1 Axes>"
      ]
     },
     "metadata": {
      "needs_background": "light"
     },
     "output_type": "display_data"
    }
   ],
   "source": [
    "# Plot - Top 10 companies by Market Cap\n",
    "plt.figure(figsize=(10,6))\n",
    "plt.barh(top_10['Company Name'], top_10['Mar Cap Rs.Cr.'], color='skyblue')\n",
    "plt.gca().invert_yaxis()\n",
    "plt.xlabel(\"Market Capitalization (Rs. Cr.)\")\n",
    "plt.ylabel(\"Company Name\")\n",
    "plt.title(\"Top 10 Companies by Market Capitalization (Nifty 500)\")\n",
    "plt.show()"
   ]
  },
  {
   "cell_type": "raw",
   "id": "3d302ffd",
   "metadata": {},
   "source": [
    "Observation:\n",
    "The bar chart displays the top 10 companies with the highest market capitalization.\n",
    "These firms represent the most valuable companies in the Nifty 500 index.\n",
    "Generally, a few large companies like Reliance Industries, HDFC Bank, and TCS dominate the overall market share."
   ]
  },
  {
   "cell_type": "code",
   "execution_count": null,
   "id": "ea3c2ae8",
   "metadata": {},
   "outputs": [],
   "source": []
  },
  {
   "cell_type": "code",
   "execution_count": null,
   "id": "0e0872f8",
   "metadata": {},
   "outputs": [],
   "source": []
  },
  {
   "cell_type": "markdown",
   "id": "7f267188",
   "metadata": {},
   "source": [
    "<div style=\"background-color:#d4edda; padding:15px; border-radius:8px; border-left:6px solid #28a745;\">\n",
    "  <h3 style=\"margin-top:0; color:#a52a2a;\">2. What is the average P/E ratio across Nifty 500 companies, and which firms appear to be overvalued or undervalued based on their Price-to-Earnings multiples?:</h3>\n",
    "  \n",
    "</div>"
   ]
  },
  {
   "cell_type": "code",
   "execution_count": 32,
   "id": "41c8c4b9",
   "metadata": {},
   "outputs": [],
   "source": [
    "# Calculate overall statistics\n",
    "avg_pe = df['Price to Earnings Ratio'].mean()\n",
    "median_pe = df['Price to Earnings Ratio'].median()"
   ]
  },
  {
   "cell_type": "code",
   "execution_count": 33,
   "id": "96b06dba",
   "metadata": {},
   "outputs": [
    {
     "name": "stdout",
     "output_type": "stream",
     "text": [
      "Average P/E Ratio: 62.00\n",
      "Median P/E Ratio: 42.15\n"
     ]
    }
   ],
   "source": [
    "print(f\"Average P/E Ratio: {avg_pe:.2f}\")\n",
    "print(f\"Median P/E Ratio: {median_pe:.2f}\")"
   ]
  },
  {
   "cell_type": "code",
   "execution_count": 34,
   "id": "cd3ba051",
   "metadata": {},
   "outputs": [],
   "source": [
    "# Identify Top and Bottom 10 companies by P/E\n",
    "top_10_pe = df.sort_values(by='Price to Earnings Ratio', ascending=False).head(10)\n",
    "bottom_10_pe = df.sort_values(by='Price to Earnings Ratio', ascending=True).head(10)"
   ]
  },
  {
   "cell_type": "code",
   "execution_count": 35,
   "id": "425efd31",
   "metadata": {},
   "outputs": [
    {
     "name": "stdout",
     "output_type": "stream",
     "text": [
      "\n",
      "Top 10 Overvalued Companies (Highest P/E):\n",
      "         Company Name  Price to Earnings Ratio\n",
      "151           F A C T                  3002.29\n",
      "466     Westlife Food                   962.54\n",
      "173    FSN E-Commerce                   884.07\n",
      "32        Eternal Ltd                   473.53\n",
      "304           M R P L                   440.27\n",
      "476    Sapphire Foods                   378.91\n",
      "327    PTC Industries                   360.44\n",
      "286    Piramal Pharma                   294.60\n",
      "132       PB Fintech.                   267.46\n",
      "104  Siemens Ener.Ind                   241.35\n"
     ]
    }
   ],
   "source": [
    "print(\"\\nTop 10 Overvalued Companies (Highest P/E):\")\n",
    "print(top_10_pe[['Company Name', 'Price to Earnings Ratio']])"
   ]
  },
  {
   "cell_type": "code",
   "execution_count": 36,
   "id": "b1c8c995",
   "metadata": {},
   "outputs": [
    {
     "name": "stdout",
     "output_type": "stream",
     "text": [
      "\n",
      "Top 10 Undervalued Companies (Lowest P/E):\n",
      "         Company Name  Price to Earnings Ratio\n",
      "191     Bank of India                     5.66\n",
      "100       Canara Bank                     5.69\n",
      "460        J & K Bank                     5.81\n",
      "517    KNR Construct.                     5.85\n",
      "68   Power Fin.Corpn.                     5.91\n",
      "74     Bank of Baroda                     5.98\n",
      "433    GE Shipping Co                     6.00\n",
      "87     Union Bank (I)                     6.02\n",
      "253  LIC Housing Fin.                     6.14\n",
      "244   Natl. Aluminium                     6.47\n"
     ]
    }
   ],
   "source": [
    "print(\"\\nTop 10 Undervalued Companies (Lowest P/E):\")\n",
    "print(bottom_10_pe[['Company Name', 'Price to Earnings Ratio']])"
   ]
  },
  {
   "cell_type": "code",
   "execution_count": 37,
   "id": "cf43091c",
   "metadata": {},
   "outputs": [
    {
     "data": {
      "image/png": "[encoded data removed]",
      "text/plain": [
       "<Figure size 576x360 with 1 Axes>"
      ]
     },
     "metadata": {
      "needs_background": "light"
     },
     "output_type": "display_data"
    }
   ],
   "source": [
    "# Plot histogram to see distribution\n",
    "plt.figure(figsize=(8,5))\n",
    "plt.hist(df['Price to Earnings Ratio'], bins=30, color='lightgreen', edgecolor='black')\n",
    "plt.title(\"Distribution of P/E Ratios (Nifty 500 Companies)\")\n",
    "plt.xlabel(\"P/E Ratio\")\n",
    "plt.ylabel(\"Number of Companies\")\n",
    "plt.grid(axis='y', alpha=0.6)\n",
    "plt.show()"
   ]
  },
  {
   "cell_type": "raw",
   "id": "6316e1f2",
   "metadata": {},
   "source": [
    "Observation:\n",
    "    \n",
    "The average and median P/E values give an idea of overall market valuation.\n",
    "High P/E → Investors expect future growth (may be overvalued).\n",
    "Low P/E → Stock may be undervalued or facing short-term challenges.\n",
    "The histogram shows how most companies are distributed — often concentrated around 20–30 for stable markets."
   ]
  },
  {
   "cell_type": "markdown",
   "id": "32690ac4",
   "metadata": {},
   "source": [
    "<div style=\"background-color:#d4edda; padding:15px; border-radius:8px; border-left:6px solid #28a745;\">\n",
    "  <h3 style=\"margin-top:0; color:#a52a2a;\">3. Which companies show the highest Return on Capital Employed (ROCE), and how does ROCE relate to their P/E Ratio or Market Capitalization?:</h3>\n",
    "  \n",
    "</div>"
   ]
  },
  {
   "cell_type": "code",
   "execution_count": 38,
   "id": "247fa9c7",
   "metadata": {},
   "outputs": [],
   "source": [
    "# Top 10 companies by ROCE\n",
    "top_10_roce = df.sort_values(by='ROCE %', ascending=False).head(10)"
   ]
  },
  {
   "cell_type": "code",
   "execution_count": 39,
   "id": "65e8c457",
   "metadata": {},
   "outputs": [
    {
     "name": "stdout",
     "output_type": "stream",
     "text": [
      "Top 10 Companies by ROCE:\n",
      "         Company Name  ROCE %  Price to Earnings Ratio  Mar Cap Rs.Cr.\n",
      "154  Colgate-Palmoliv  105.36                    45.77        65751.10\n",
      "36       Nestle India   95.66                    75.00       231976.19\n",
      "403  International Ge   68.01                    36.33        15531.76\n",
      "2                 TCS   64.63                    25.75      1247426.08\n",
      "184  Glaxosmi. Pharma   63.25                    63.21        55262.79\n",
      "46     Hindustan Zinc   60.81                    18.08       186822.48\n",
      "187   Page Industries   59.40                    74.51        54285.87\n",
      "249    Gillette India   58.91                    63.73        34019.08\n",
      "376  Anand Rathi Wea.   56.26                    57.23        17143.76\n",
      "338     Castrol India   55.16                    22.10        20880.39\n"
     ]
    }
   ],
   "source": [
    "print(\"Top 10 Companies by ROCE:\")\n",
    "print(top_10_roce[['Company Name', 'ROCE %', 'Price to Earnings Ratio', 'Mar Cap Rs.Cr.']])\n"
   ]
  },
  {
   "cell_type": "code",
   "execution_count": 40,
   "id": "57548a8c",
   "metadata": {},
   "outputs": [
    {
     "data": {
      "image/png": "[encoded data removed]",
      "text/plain": [
       "<Figure size 576x360 with 1 Axes>"
      ]
     },
     "metadata": {
      "needs_background": "light"
     },
     "output_type": "display_data"
    }
   ],
   "source": [
    "# Scatter Plot: ROCE vs P/E Ratio\n",
    "plt.figure(figsize=(8,5))\n",
    "plt.scatter(df['ROCE %'], df['Price to Earnings Ratio'], color='orange', alpha=0.6)\n",
    "plt.title(\"ROCE vs P/E Ratio (Profitability vs Valuation)\")\n",
    "plt.xlabel(\"ROCE (%)\")\n",
    "plt.ylabel(\"P/E Ratio\")\n",
    "plt.grid(True)\n",
    "plt.show()\n"
   ]
  },
  {
   "cell_type": "code",
   "execution_count": 41,
   "id": "48dfd930",
   "metadata": {},
   "outputs": [
    {
     "name": "stdout",
     "output_type": "stream",
     "text": [
      "\n",
      "Correlation between ROCE and P/E Ratio: -0.09\n"
     ]
    }
   ],
   "source": [
    "# Correlation check\n",
    "correlation = df[['ROCE %', 'Price to Earnings Ratio']].corr().iloc[0,1]\n",
    "print(f\"\\nCorrelation between ROCE and P/E Ratio: {correlation:.2f}\")"
   ]
  },
  {
   "cell_type": "raw",
   "id": "6dbae5cf",
   "metadata": {},
   "source": [
    "Observation:\n",
    "Companies like HDFC Bank, Infosys, and Maruti Suzuki show strong ROCE values, indicating efficient capital utilization.\n",
    "The correlation between ROCE and P/E suggests that investors generally reward high-efficiency companies with higher valuations."
   ]
  },
  {
   "cell_type": "markdown",
   "id": "5b812939",
   "metadata": {},
   "source": [
    "<div style=\"background-color:#d4edda; padding:15px; border-radius:8px; border-left:6px solid #28a745;\">\n",
    "  <h3 style=\"margin-top:0; color:#a52a2a;\">4. Which companies consistently offer high dividend yields, and what does this reveal about their stability and investor return potential?:</h3>\n",
    "  \n",
    "</div>"
   ]
  },
  {
   "cell_type": "code",
   "execution_count": 42,
   "id": "bb157b82",
   "metadata": {},
   "outputs": [],
   "source": [
    "# Sort and display top 10 companies with highest dividend yield\n",
    "top_10_div = df.sort_values(by='Div Yld %', ascending=False).head(10)"
   ]
  },
  {
   "cell_type": "code",
   "execution_count": 43,
   "id": "8f2e11e6",
   "metadata": {},
   "outputs": [
    {
     "name": "stdout",
     "output_type": "stream",
     "text": [
      "Top 10 Companies by Dividend Yield:\n",
      "         Company Name  Div Yld %  Mar Cap Rs.Cr.\n",
      "42            I O C L       8.53       200592.23\n",
      "483           C P C L       8.22         9950.22\n",
      "46     Hindustan Zinc       6.57       186822.48\n",
      "64            B P C L       6.54       138810.48\n",
      "34         Coal India       6.46       241363.29\n",
      "126           H P C L       5.18        86793.87\n",
      "23            O N G C       5.01       304317.02\n",
      "510  Guj Pipavav Port       4.44         7829.34\n",
      "244   Natl. Aluminium       4.23        34436.87\n",
      "442             Rites       4.07        13423.16\n"
     ]
    }
   ],
   "source": [
    "print(\"Top 10 Companies by Dividend Yield:\")\n",
    "print(top_10_div[['Company Name', 'Div Yld %', 'Mar Cap Rs.Cr.']])"
   ]
  },
  {
   "cell_type": "code",
   "execution_count": 44,
   "id": "2521456b",
   "metadata": {},
   "outputs": [
    {
     "data": {
      "image/png": "[encoded data removed]",
      "text/plain": [
       "<Figure size 720x432 with 1 Axes>"
      ]
     },
     "metadata": {
      "needs_background": "light"
     },
     "output_type": "display_data"
    }
   ],
   "source": [
    "# Bar plot of top 10 dividend-yielding companies\n",
    "plt.figure(figsize=(10,6))\n",
    "plt.barh(top_10_div['Company Name'], top_10_div['Div Yld %'], color='lightcoral')\n",
    "plt.gca().invert_yaxis()\n",
    "plt.xlabel(\"Dividend Yield (%)\")\n",
    "plt.ylabel(\"Company Name\")\n",
    "plt.title(\"Top 10 Companies by Dividend Yield (Nifty 500)\")\n",
    "plt.show()"
   ]
  },
  {
   "cell_type": "raw",
   "id": "c9a65a98",
   "metadata": {},
   "source": [
    "Observation:\n",
    "Companies like Coal India, ONGC, and Indian Oil Corporation show the highest dividend yields, indicating stable returns for investors.\n",
    "Dividend-yielding companies are often from energy and banking sectors, preferred by long-term investors for consistent income."
   ]
  },
  {
   "cell_type": "markdown",
   "id": "64b2a476",
   "metadata": {},
   "source": [
    "<div style=\"background-color:#d4edda; padding:15px; border-radius:8px; border-left:6px solid #28a745;\">\n",
    "  <h3 style=\"margin-top:0; color:#a52a2a;\">5. What is the relationship between Quarterly Sales and Net Profit, and which companies show the strongest financial growth?:</h3>\n",
    "  \n",
    "</div>"
   ]
  },
  {
   "cell_type": "code",
   "execution_count": 45,
   "id": "f5230a1c",
   "metadata": {},
   "outputs": [
    {
     "name": "stdout",
     "output_type": "stream",
     "text": [
      "Correlation between Sales and Net Profit: 0.78\n"
     ]
    }
   ],
   "source": [
    "# Correlation between Sales and Net Profit\n",
    "correlation = df[['Sales Qtr Rs.Cr.', 'NP Qtr Rs.Cr.']].corr().iloc[0,1]\n",
    "print(f\"Correlation between Sales and Net Profit: {correlation:.2f}\")"
   ]
  },
  {
   "cell_type": "code",
   "execution_count": 46,
   "id": "9f57e420",
   "metadata": {},
   "outputs": [
    {
     "data": {
      "image/png": "[encoded data removed]",
      "text/plain": [
       "<Figure size 576x360 with 1 Axes>"
      ]
     },
     "metadata": {
      "needs_background": "light"
     },
     "output_type": "display_data"
    }
   ],
   "source": [
    "# Scatter plot - Sales vs Net Profit\n",
    "plt.figure(figsize=(8,5))\n",
    "plt.scatter(df['Sales Qtr Rs.Cr.'], df['NP Qtr Rs.Cr.'], color='teal', alpha=0.6)\n",
    "plt.title(\"Relationship between Quarterly Sales and Net Profit\")\n",
    "plt.xlabel(\"Sales (Rs. Cr.)\")\n",
    "plt.ylabel(\"Net Profit (Rs. Cr.)\")\n",
    "plt.grid(True)\n",
    "plt.show()\n"
   ]
  },
  {
   "cell_type": "code",
   "execution_count": 47,
   "id": "f40bebb1",
   "metadata": {},
   "outputs": [
    {
     "name": "stdout",
     "output_type": "stream",
     "text": [
      "\n",
      "Top 10 Companies by Quarterly Net Profit:\n",
      "        Company Name  NP Qtr Rs.Cr.  Sales Qtr Rs.Cr.  Qtr Profit Var %  \\\n",
      "0   Reliance Industr       22611.00         261388.00              2.41   \n",
      "5     St Bk of India       20379.46         126997.00             -8.34   \n",
      "10               ITC       19807.88          18765.00              3.97   \n",
      "1          HDFC Bank       19284.57          86779.34              6.88   \n",
      "7     Life Insurance       19038.67         243134.49             37.55   \n",
      "4         ICICI Bank       14353.69          48386.92             15.69   \n",
      "3      Bharti Airtel       12475.80          47876.20            185.61   \n",
      "2                TCS       12293.00          64479.00             -1.69   \n",
      "34        Coal India        9592.53          37824.54             12.45   \n",
      "23           O N G C        8856.33         170811.73            -34.02   \n",
      "\n",
      "    Qtr Sales Var %  \n",
      "0             10.51  \n",
      "5              8.11  \n",
      "10            10.14  \n",
      "1              9.25  \n",
      "7              1.85  \n",
      "4             13.57  \n",
      "3             27.33  \n",
      "2              5.29  \n",
      "34            -1.02  \n",
      "23            -0.77  \n"
     ]
    }
   ],
   "source": [
    "# Top 10 companies by Net Profit\n",
    "top_10_profit = df.sort_values(by='NP Qtr Rs.Cr.', ascending=False).head(10)\n",
    "print(\"\\nTop 10 Companies by Quarterly Net Profit:\")\n",
    "print(top_10_profit[['Company Name', 'NP Qtr Rs.Cr.', 'Sales Qtr Rs.Cr.', 'Qtr Profit Var %', 'Qtr Sales Var %']])\n"
   ]
  },
  {
   "cell_type": "raw",
   "id": "2cf0a124",
   "metadata": {},
   "source": [
    "Observation:\n",
    "A positive correlation between Sales and Net Profit shows that companies with higher sales usually earn higher profits.\n",
    "Outliers may indicate efficient cost management or poor profit margins despite high sales.\n",
    "The top companies by Net Profit reflect strong financial health and market leadership"
   ]
  }
 ],
 "metadata": {
  "kernelspec": {
   "display_name": "Python 3 (ipykernel)",
   "language": "python",
   "name": "python3"
  },
  "language_info": {
   "codemirror_mode": {
    "name": "ipython",
    "version": 3
   },
   "file_extension": ".py",
   "mimetype": "text/x-python",
   "name": "python",
   "nbconvert_exporter": "python",
   "pygments_lexer": "ipython3",
   "version": "3.9.12"
  }
 },
 "nbformat": 4,
 "nbformat_minor": 5
}
